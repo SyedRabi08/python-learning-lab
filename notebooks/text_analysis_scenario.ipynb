{
 "cells": [
  {
   "cell_type": "markdown",
   "id": "5377d956",
   "metadata": {},
   "source": [
    "# 🧠 Scenario: Using `TextAnalyzer` and `save_csv`\n",
    "\n",
    "This notebook demonstrates how to use your custom `TextAnalyzer` class and `save_csv` function on a sample list of text strings."
   ]
  },
  {
   "cell_type": "code",
   "execution_count": 2,
   "id": "2584bf15",
   "metadata": {},
   "outputs": [
    {
     "name": "stdout",
     "output_type": "stream",
     "text": [
      "Requirement already satisfied: nba_api in c:\\users\\syedr\\appdata\\local\\programs\\python\\python313\\lib\\site-packages (1.10.0)\n",
      "Requirement already satisfied: numpy>=2.1.0 in c:\\users\\syedr\\appdata\\local\\programs\\python\\python313\\lib\\site-packages (from nba_api) (2.3.1)\n",
      "Requirement already satisfied: pandas>=2.2.0 in c:\\users\\syedr\\appdata\\local\\programs\\python\\python313\\lib\\site-packages (from nba_api) (2.3.0)\n",
      "Requirement already satisfied: requests<3.0.0,>=2.32.3 in c:\\users\\syedr\\appdata\\local\\programs\\python\\python313\\lib\\site-packages (from nba_api) (2.32.4)\n",
      "Requirement already satisfied: charset_normalizer<4,>=2 in c:\\users\\syedr\\appdata\\local\\programs\\python\\python313\\lib\\site-packages (from requests<3.0.0,>=2.32.3->nba_api) (3.4.2)\n",
      "Requirement already satisfied: idna<4,>=2.5 in c:\\users\\syedr\\appdata\\local\\programs\\python\\python313\\lib\\site-packages (from requests<3.0.0,>=2.32.3->nba_api) (3.10)\n",
      "Requirement already satisfied: urllib3<3,>=1.21.1 in c:\\users\\syedr\\appdata\\local\\programs\\python\\python313\\lib\\site-packages (from requests<3.0.0,>=2.32.3->nba_api) (2.5.0)\n",
      "Requirement already satisfied: certifi>=2017.4.17 in c:\\users\\syedr\\appdata\\local\\programs\\python\\python313\\lib\\site-packages (from requests<3.0.0,>=2.32.3->nba_api) (2025.6.15)\n",
      "Requirement already satisfied: python-dateutil>=2.8.2 in c:\\users\\syedr\\appdata\\local\\programs\\python\\python313\\lib\\site-packages (from pandas>=2.2.0->nba_api) (2.9.0.post0)\n",
      "Requirement already satisfied: pytz>=2020.1 in c:\\users\\syedr\\appdata\\local\\programs\\python\\python313\\lib\\site-packages (from pandas>=2.2.0->nba_api) (2025.2)\n",
      "Requirement already satisfied: tzdata>=2022.7 in c:\\users\\syedr\\appdata\\local\\programs\\python\\python313\\lib\\site-packages (from pandas>=2.2.0->nba_api) (2025.2)\n",
      "Requirement already satisfied: six>=1.5 in c:\\users\\syedr\\appdata\\local\\programs\\python\\python313\\lib\\site-packages (from python-dateutil>=2.8.2->pandas>=2.2.0->nba_api) (1.17.0)\n",
      "done\n"
     ]
    }
   ],
   "source": [
    "# 🧾 Import the class and function\n",
    "%run classes.ipynb\n",
    "import pandas as pd\n"
   ]
  },
  {
   "cell_type": "code",
   "execution_count": 8,
   "id": "d00ae9ec",
   "metadata": {},
   "outputs": [],
   "source": [
    "# 📄 Sample text data\n",
    "texts = \"Data science is transforming the world.Python is a versatile language for both scripting and application development.Machine learning models require clean, structured, and relevant data.\"\n",
    "\n"
   ]
  },
  {
   "cell_type": "code",
   "execution_count": 14,
   "id": "b1b9902d",
   "metadata": {},
   "outputs": [
    {
     "data": {
      "text/plain": [
       "{'': 3,\n",
       " 'transforming': 1,\n",
       " 'both': 1,\n",
       " 'language': 1,\n",
       " 'for': 1,\n",
       " 'versatile': 1,\n",
       " 'clean': 1,\n",
       " 'and': 2,\n",
       " 'relevant': 1,\n",
       " 'science': 1,\n",
       " 'python': 1,\n",
       " 'a': 1,\n",
       " 'the': 1,\n",
       " 'scripting': 1,\n",
       " 'structured': 1,\n",
       " 'development': 1,\n",
       " 'require': 1,\n",
       " 'is': 2,\n",
       " 'models': 1,\n",
       " 'machine': 1,\n",
       " 'data': 2,\n",
       " 'application': 1,\n",
       " 'learning': 1,\n",
       " 'world': 1}"
      ]
     },
     "execution_count": 14,
     "metadata": {},
     "output_type": "execute_result"
    }
   ],
   "source": [
    "# 📊 Analyze the text\n",
    "analyzer = TextAnalyzer(texts)\n",
    "results = analyzer.freqAll()\n",
    "\n",
    "results\n"
   ]
  },
  {
   "cell_type": "code",
   "execution_count": 17,
   "id": "3d187ab9-903c-48a0-8fba-46ad23aa4215",
   "metadata": {},
   "outputs": [],
   "source": [
    "## whynot ##\n"
   ]
  },
  {
   "cell_type": "code",
   "execution_count": null,
   "id": "19cca31e-7143-4d1d-870d-0df4b2ceb412",
   "metadata": {},
   "outputs": [],
   "source": []
  }
 ],
 "metadata": {
  "kernelspec": {
   "display_name": "Python 3 (ipykernel)",
   "language": "python",
   "name": "python3"
  },
  "language_info": {
   "codemirror_mode": {
    "name": "ipython",
    "version": 3
   },
   "file_extension": ".py",
   "mimetype": "text/x-python",
   "name": "python",
   "nbconvert_exporter": "python",
   "pygments_lexer": "ipython3",
   "version": "3.13.5"
  }
 },
 "nbformat": 4,
 "nbformat_minor": 5
}
